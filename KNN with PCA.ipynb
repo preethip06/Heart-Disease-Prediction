{
 "cells": [
  {
   "cell_type": "markdown",
   "id": "therapeutic-child",
   "metadata": {},
   "source": [
    "# KNN with PCA ML Model "
   ]
  },
  {
   "cell_type": "code",
   "execution_count": 37,
   "id": "smooth-david",
   "metadata": {},
   "outputs": [],
   "source": [
    "# Importing libaries\n",
    "import pandas as pd\n",
    "import numpy as nd\n",
    "from sklearn.preprocessing import StandardScaler\n",
    "from sklearn.neighbors import KNeighborsClassifier\n",
    "from sklearn.model_selection import train_test_split\n",
    "from sklearn.model_selection import cross_val_score\n",
    "from sklearn.metrics import confusion_matrix\n",
    "from sklearn.decomposition import PCA\n",
    "import matplotlib.pyplot as plt\n",
    "import seaborn as sns\n",
    "%matplotlib inline"
   ]
  },
  {
   "cell_type": "code",
   "execution_count": 38,
   "id": "robust-school",
   "metadata": {},
   "outputs": [
    {
     "name": "stdout",
     "output_type": "stream",
     "text": [
      "     age  sex  cp  trestbps  chol  fbs  restecg  thalach  exang  oldpeak  \\\n",
      "0     63    1   3       145   233    1        0      150      0      2.3   \n",
      "1     37    1   2       130   250    0        1      187      0      3.5   \n",
      "2     41    0   1       130   204    0        0      172      0      1.4   \n",
      "3     56    1   1       120   236    0        1      178      0      0.8   \n",
      "4     57    0   0       120   354    0        1      163      1      0.6   \n",
      "..   ...  ...  ..       ...   ...  ...      ...      ...    ...      ...   \n",
      "298   57    0   0       140   241    0        1      123      1      0.2   \n",
      "299   45    1   3       110   264    0        1      132      0      1.2   \n",
      "300   68    1   0       144   193    1        1      141      0      3.4   \n",
      "301   57    1   0       130   131    0        1      115      1      1.2   \n",
      "302   57    0   1       130   236    0        0      174      0      0.0   \n",
      "\n",
      "     slope  ca  thal  target  \n",
      "0        0   0     1       1  \n",
      "1        0   0     2       1  \n",
      "2        2   0     2       1  \n",
      "3        2   0     2       1  \n",
      "4        2   0     2       1  \n",
      "..     ...  ..   ...     ...  \n",
      "298      1   0     3       0  \n",
      "299      1   0     3       0  \n",
      "300      1   2     3       0  \n",
      "301      1   1     3       0  \n",
      "302      1   1     2       0  \n",
      "\n",
      "[303 rows x 14 columns]\n"
     ]
    }
   ],
   "source": [
    "# importing the dataset\n",
    "df = pd.read_csv('heart.csv')\n",
    "print(df)"
   ]
  },
  {
   "cell_type": "code",
   "execution_count": 39,
   "id": "combined-constitutional",
   "metadata": {},
   "outputs": [
    {
     "data": {
      "text/html": [
       "<div>\n",
       "<style scoped>\n",
       "    .dataframe tbody tr th:only-of-type {\n",
       "        vertical-align: middle;\n",
       "    }\n",
       "\n",
       "    .dataframe tbody tr th {\n",
       "        vertical-align: top;\n",
       "    }\n",
       "\n",
       "    .dataframe thead th {\n",
       "        text-align: right;\n",
       "    }\n",
       "</style>\n",
       "<table border=\"1\" class=\"dataframe\">\n",
       "  <thead>\n",
       "    <tr style=\"text-align: right;\">\n",
       "      <th></th>\n",
       "      <th>age</th>\n",
       "      <th>sex</th>\n",
       "      <th>cp</th>\n",
       "      <th>trestbps</th>\n",
       "      <th>chol</th>\n",
       "      <th>fbs</th>\n",
       "      <th>restecg</th>\n",
       "      <th>thalach</th>\n",
       "      <th>exang</th>\n",
       "      <th>oldpeak</th>\n",
       "      <th>slope</th>\n",
       "      <th>ca</th>\n",
       "      <th>thal</th>\n",
       "      <th>target</th>\n",
       "    </tr>\n",
       "  </thead>\n",
       "  <tbody>\n",
       "    <tr>\n",
       "      <th>0</th>\n",
       "      <td>63</td>\n",
       "      <td>1</td>\n",
       "      <td>3</td>\n",
       "      <td>145</td>\n",
       "      <td>233</td>\n",
       "      <td>1</td>\n",
       "      <td>0</td>\n",
       "      <td>150</td>\n",
       "      <td>0</td>\n",
       "      <td>2.3</td>\n",
       "      <td>0</td>\n",
       "      <td>0</td>\n",
       "      <td>1</td>\n",
       "      <td>1</td>\n",
       "    </tr>\n",
       "    <tr>\n",
       "      <th>1</th>\n",
       "      <td>37</td>\n",
       "      <td>1</td>\n",
       "      <td>2</td>\n",
       "      <td>130</td>\n",
       "      <td>250</td>\n",
       "      <td>0</td>\n",
       "      <td>1</td>\n",
       "      <td>187</td>\n",
       "      <td>0</td>\n",
       "      <td>3.5</td>\n",
       "      <td>0</td>\n",
       "      <td>0</td>\n",
       "      <td>2</td>\n",
       "      <td>1</td>\n",
       "    </tr>\n",
       "    <tr>\n",
       "      <th>2</th>\n",
       "      <td>41</td>\n",
       "      <td>0</td>\n",
       "      <td>1</td>\n",
       "      <td>130</td>\n",
       "      <td>204</td>\n",
       "      <td>0</td>\n",
       "      <td>0</td>\n",
       "      <td>172</td>\n",
       "      <td>0</td>\n",
       "      <td>1.4</td>\n",
       "      <td>2</td>\n",
       "      <td>0</td>\n",
       "      <td>2</td>\n",
       "      <td>1</td>\n",
       "    </tr>\n",
       "    <tr>\n",
       "      <th>3</th>\n",
       "      <td>56</td>\n",
       "      <td>1</td>\n",
       "      <td>1</td>\n",
       "      <td>120</td>\n",
       "      <td>236</td>\n",
       "      <td>0</td>\n",
       "      <td>1</td>\n",
       "      <td>178</td>\n",
       "      <td>0</td>\n",
       "      <td>0.8</td>\n",
       "      <td>2</td>\n",
       "      <td>0</td>\n",
       "      <td>2</td>\n",
       "      <td>1</td>\n",
       "    </tr>\n",
       "    <tr>\n",
       "      <th>4</th>\n",
       "      <td>57</td>\n",
       "      <td>0</td>\n",
       "      <td>0</td>\n",
       "      <td>120</td>\n",
       "      <td>354</td>\n",
       "      <td>0</td>\n",
       "      <td>1</td>\n",
       "      <td>163</td>\n",
       "      <td>1</td>\n",
       "      <td>0.6</td>\n",
       "      <td>2</td>\n",
       "      <td>0</td>\n",
       "      <td>2</td>\n",
       "      <td>1</td>\n",
       "    </tr>\n",
       "  </tbody>\n",
       "</table>\n",
       "</div>"
      ],
      "text/plain": [
       "   age  sex  cp  trestbps  chol  fbs  restecg  thalach  exang  oldpeak  slope  \\\n",
       "0   63    1   3       145   233    1        0      150      0      2.3      0   \n",
       "1   37    1   2       130   250    0        1      187      0      3.5      0   \n",
       "2   41    0   1       130   204    0        0      172      0      1.4      2   \n",
       "3   56    1   1       120   236    0        1      178      0      0.8      2   \n",
       "4   57    0   0       120   354    0        1      163      1      0.6      2   \n",
       "\n",
       "   ca  thal  target  \n",
       "0   0     1       1  \n",
       "1   0     2       1  \n",
       "2   0     2       1  \n",
       "3   0     2       1  \n",
       "4   0     2       1  "
      ]
     },
     "execution_count": 39,
     "metadata": {},
     "output_type": "execute_result"
    }
   ],
   "source": [
    "# To print the first 5 rows from the dataset\n",
    "df.head()"
   ]
  },
  {
   "cell_type": "code",
   "execution_count": 40,
   "id": "meaning-runner",
   "metadata": {},
   "outputs": [
    {
     "data": {
      "text/plain": [
       "age           int64\n",
       "sex           int64\n",
       "cp            int64\n",
       "trestbps      int64\n",
       "chol          int64\n",
       "fbs           int64\n",
       "restecg       int64\n",
       "thalach       int64\n",
       "exang         int64\n",
       "oldpeak     float64\n",
       "slope         int64\n",
       "ca            int64\n",
       "thal          int64\n",
       "target        int64\n",
       "dtype: object"
      ]
     },
     "execution_count": 40,
     "metadata": {},
     "output_type": "execute_result"
    }
   ],
   "source": [
    "# To know the data types of each column\n",
    "df.dtypes"
   ]
  },
  {
   "cell_type": "code",
   "execution_count": 41,
   "id": "recognized-spectacular",
   "metadata": {},
   "outputs": [
    {
     "name": "stdout",
     "output_type": "stream",
     "text": [
      "<class 'pandas.core.frame.DataFrame'>\n",
      "RangeIndex: 303 entries, 0 to 302\n",
      "Data columns (total 14 columns):\n",
      " #   Column    Non-Null Count  Dtype  \n",
      "---  ------    --------------  -----  \n",
      " 0   age       303 non-null    int64  \n",
      " 1   sex       303 non-null    int64  \n",
      " 2   cp        303 non-null    int64  \n",
      " 3   trestbps  303 non-null    int64  \n",
      " 4   chol      303 non-null    int64  \n",
      " 5   fbs       303 non-null    int64  \n",
      " 6   restecg   303 non-null    int64  \n",
      " 7   thalach   303 non-null    int64  \n",
      " 8   exang     303 non-null    int64  \n",
      " 9   oldpeak   303 non-null    float64\n",
      " 10  slope     303 non-null    int64  \n",
      " 11  ca        303 non-null    int64  \n",
      " 12  thal      303 non-null    int64  \n",
      " 13  target    303 non-null    int64  \n",
      "dtypes: float64(1), int64(13)\n",
      "memory usage: 33.3 KB\n"
     ]
    }
   ],
   "source": [
    "# To findout information about missing values from the dataset\n",
    "df.info()"
   ]
  },
  {
   "cell_type": "code",
   "execution_count": 42,
   "id": "fitted-criminal",
   "metadata": {},
   "outputs": [
    {
     "data": {
      "text/plain": [
       "age         0\n",
       "sex         0\n",
       "cp          0\n",
       "trestbps    0\n",
       "chol        0\n",
       "fbs         0\n",
       "restecg     0\n",
       "thalach     0\n",
       "exang       0\n",
       "oldpeak     0\n",
       "slope       0\n",
       "ca          0\n",
       "thal        0\n",
       "target      0\n",
       "dtype: int64"
      ]
     },
     "execution_count": 42,
     "metadata": {},
     "output_type": "execute_result"
    }
   ],
   "source": [
    "# To find the sum of missing values\n",
    "df.isna().sum()"
   ]
  },
  {
   "cell_type": "markdown",
   "id": "wrong-knowing",
   "metadata": {},
   "source": [
    "# Data Preprocessing"
   ]
  },
  {
   "cell_type": "code",
   "execution_count": 43,
   "id": "romance-pension",
   "metadata": {},
   "outputs": [
    {
     "name": "stdout",
     "output_type": "stream",
     "text": [
      "Dimensionality of x is:  (303, 13)\n",
      "Dimensionality of y is:  (303,)\n"
     ]
    }
   ],
   "source": [
    "# Separating Dataset\n",
    "x = df.iloc[:,:-1].values\n",
    "y = df.iloc[:,-1].values\n",
    "\n",
    "# printing data shape\n",
    "print('Dimensionality of x is: ',x.shape)\n",
    "print('Dimensionality of y is: ',y.shape)"
   ]
  },
  {
   "cell_type": "code",
   "execution_count": 44,
   "id": "removed-brick",
   "metadata": {},
   "outputs": [
    {
     "name": "stdout",
     "output_type": "stream",
     "text": [
      "[[ 0.9521966   0.68100522  1.97312292 ... -2.27457861 -0.71442887\n",
      "  -2.14887271]\n",
      " [-1.91531289  0.68100522  1.00257707 ... -2.27457861 -0.71442887\n",
      "  -0.51292188]\n",
      " [-1.47415758 -1.46841752  0.03203122 ...  0.97635214 -0.71442887\n",
      "  -0.51292188]\n",
      " ...\n",
      " [ 1.50364073  0.68100522 -0.93851463 ... -0.64911323  1.24459328\n",
      "   1.12302895]\n",
      " [ 0.29046364  0.68100522 -0.93851463 ... -0.64911323  0.26508221\n",
      "   1.12302895]\n",
      " [ 0.29046364 -1.46841752  0.03203122 ... -0.64911323  0.26508221\n",
      "  -0.51292188]]\n"
     ]
    }
   ],
   "source": [
    "# Applying Standardscaling\n",
    "from sklearn.preprocessing import StandardScaler\n",
    "sc = StandardScaler()\n",
    "x = sc.fit_transform(x)\n",
    "print(x)"
   ]
  },
  {
   "cell_type": "markdown",
   "id": "competent-night",
   "metadata": {},
   "source": [
    "# Using None as n_components parameter"
   ]
  },
  {
   "cell_type": "code",
   "execution_count": 45,
   "id": "headed-brown",
   "metadata": {},
   "outputs": [
    {
     "name": "stdout",
     "output_type": "stream",
     "text": [
      "[0.21254053 0.11820708 0.09406418 0.09085735 0.07861281 0.07461661\n",
      " 0.06636692 0.05968811 0.05530196 0.04781309 0.04077729 0.03254941\n",
      " 0.02860467]\n"
     ]
    }
   ],
   "source": [
    "# applying PCA on x to reduce the dimensions\n",
    "from sklearn.decomposition import PCA\n",
    "pca =PCA(n_components=None)\n",
    "# Since we donot know the percentage variance explained by the columns \n",
    "# we use the None as the values for the n_components parameter\n",
    "x = pca.fit_transform(x)\n",
    "ev = pca.explained_variance_ratio_\n",
    "print(ev)"
   ]
  },
  {
   "cell_type": "markdown",
   "id": "opposed-seventh",
   "metadata": {},
   "source": [
    "# Taking n_components as 2"
   ]
  },
  {
   "cell_type": "code",
   "execution_count": 46,
   "id": "soviet-permit",
   "metadata": {},
   "outputs": [],
   "source": [
    "# applying PCA on x to reduce the dimensions\n",
    "from sklearn.decomposition import PCA\n",
    "pca =PCA(n_components=4)\n",
    "principalComponents = pca.fit_transform(x)\n",
    "principalDf = pd.DataFrame(data = principalComponents,columns = ['PC1','PC2','PC3','PC4'])\n"
   ]
  },
  {
   "cell_type": "code",
   "execution_count": 47,
   "id": "sensitive-mainstream",
   "metadata": {},
   "outputs": [
    {
     "data": {
      "text/html": [
       "<div>\n",
       "<style scoped>\n",
       "    .dataframe tbody tr th:only-of-type {\n",
       "        vertical-align: middle;\n",
       "    }\n",
       "\n",
       "    .dataframe tbody tr th {\n",
       "        vertical-align: top;\n",
       "    }\n",
       "\n",
       "    .dataframe thead th {\n",
       "        text-align: right;\n",
       "    }\n",
       "</style>\n",
       "<table border=\"1\" class=\"dataframe\">\n",
       "  <thead>\n",
       "    <tr style=\"text-align: right;\">\n",
       "      <th></th>\n",
       "      <th>PC1</th>\n",
       "      <th>PC2</th>\n",
       "      <th>PC3</th>\n",
       "      <th>PC4</th>\n",
       "      <th>target</th>\n",
       "    </tr>\n",
       "  </thead>\n",
       "  <tbody>\n",
       "    <tr>\n",
       "      <th>0</th>\n",
       "      <td>0.624111</td>\n",
       "      <td>2.321270</td>\n",
       "      <td>2.474673</td>\n",
       "      <td>2.676239</td>\n",
       "      <td>1</td>\n",
       "    </tr>\n",
       "    <tr>\n",
       "      <th>1</th>\n",
       "      <td>-0.455988</td>\n",
       "      <td>-0.957351</td>\n",
       "      <td>1.139595</td>\n",
       "      <td>2.426838</td>\n",
       "      <td>1</td>\n",
       "    </tr>\n",
       "    <tr>\n",
       "      <th>2</th>\n",
       "      <td>-1.828805</td>\n",
       "      <td>0.042885</td>\n",
       "      <td>-0.452229</td>\n",
       "      <td>0.406415</td>\n",
       "      <td>1</td>\n",
       "    </tr>\n",
       "    <tr>\n",
       "      <th>3</th>\n",
       "      <td>-1.716006</td>\n",
       "      <td>-0.495337</td>\n",
       "      <td>0.030631</td>\n",
       "      <td>-0.112162</td>\n",
       "      <td>1</td>\n",
       "    </tr>\n",
       "    <tr>\n",
       "      <th>4</th>\n",
       "      <td>-0.371356</td>\n",
       "      <td>0.301156</td>\n",
       "      <td>-2.841069</td>\n",
       "      <td>-0.809042</td>\n",
       "      <td>1</td>\n",
       "    </tr>\n",
       "  </tbody>\n",
       "</table>\n",
       "</div>"
      ],
      "text/plain": [
       "        PC1       PC2       PC3       PC4  target\n",
       "0  0.624111  2.321270  2.474673  2.676239       1\n",
       "1 -0.455988 -0.957351  1.139595  2.426838       1\n",
       "2 -1.828805  0.042885 -0.452229  0.406415       1\n",
       "3 -1.716006 -0.495337  0.030631 -0.112162       1\n",
       "4 -0.371356  0.301156 -2.841069 -0.809042       1"
      ]
     },
     "execution_count": 47,
     "metadata": {},
     "output_type": "execute_result"
    }
   ],
   "source": [
    "# Final Df\n",
    "finalDf = pd.concat([principalDf, df[['target']]], axis = 1)\n",
    "finalDf.head()"
   ]
  },
  {
   "cell_type": "code",
   "execution_count": 12,
   "id": "eligible-gauge",
   "metadata": {},
   "outputs": [
    {
     "data": {
      "image/png": "[encoded data removed]",
      "text/plain": [
       "<Figure size 576x576 with 1 Axes>"
      ]
     },
     "metadata": {
      "needs_background": "light"
     },
     "output_type": "display_data"
    }
   ],
   "source": [
    "#Visualizing\n",
    "fig = plt.figure(figsize=(8,8))\n",
    "ax = fig.add_subplot(1,1,1)\n",
    "ax.set_xlabel('Principal Component1', fontsize =15)\n",
    "ax.set_ylabel('Principal Component2', fontsize = 15)\n",
    "ax.set_title('Prinicipal Components Decomposition', fontsize = 20)\n",
    "targets = [0,1]\n",
    "colors = ['r','g']\n",
    "for target, color in zip(targets, colors):\n",
    "    indicesToKeep = finalDf['target'] == target\n",
    "    ax.scatter(finalDf.loc[indicesToKeep, 'PC1'],\n",
    "    finalDf.loc[indicesToKeep,'PC2'],\n",
    "    c = color,\n",
    "    s = 50)\n",
    "ax.legend(targets)\n",
    "ax.grid()"
   ]
  },
  {
   "cell_type": "code",
   "execution_count": 48,
   "id": "sticky-motion",
   "metadata": {},
   "outputs": [
    {
     "name": "stdout",
     "output_type": "stream",
     "text": [
      "[0.21254053 0.11820708 0.09406418 0.09085735]\n"
     ]
    }
   ],
   "source": [
    "x = pca.fit_transform(x)\n",
    "ev = pca.explained_variance_ratio_\n",
    "print(ev)"
   ]
  },
  {
   "cell_type": "markdown",
   "id": "exterior-champion",
   "metadata": {},
   "source": [
    "# KNN Model"
   ]
  },
  {
   "cell_type": "code",
   "execution_count": 49,
   "id": "waiting-paragraph",
   "metadata": {},
   "outputs": [
    {
     "data": {
      "text/plain": [
       "1    165\n",
       "0    138\n",
       "Name: target, dtype: int64"
      ]
     },
     "execution_count": 49,
     "metadata": {},
     "output_type": "execute_result"
    }
   ],
   "source": [
    "#count the number of patients who have heart disease\n",
    "df.target.value_counts()"
   ]
  },
  {
   "cell_type": "code",
   "execution_count": 50,
   "id": "preliminary-buying",
   "metadata": {},
   "outputs": [
    {
     "data": {
      "image/png": "[encoded data removed]",
      "text/plain": [
       "<Figure size 432x288 with 1 Axes>"
      ]
     },
     "metadata": {
      "needs_background": "light"
     },
     "output_type": "display_data"
    }
   ],
   "source": [
    "#count visualization\n",
    "sns.countplot(x=\"target\", data=df, palette=\"bwr\")\n",
    "plt.xlabel(\" target (0 = negative, 1 = positive)\")\n",
    "plt.show()"
   ]
  },
  {
   "cell_type": "code",
   "execution_count": 51,
   "id": "manual-preserve",
   "metadata": {},
   "outputs": [
    {
     "data": {
      "image/png": "[encoded data removed]",
      "text/plain": [
       "<Figure size 432x288 with 1 Axes>"
      ]
     },
     "metadata": {
      "needs_background": "light"
     },
     "output_type": "display_data"
    }
   ],
   "source": [
    "# classify target variable between male and female and visualize the result\n",
    "sns.countplot(x='sex', data=df, palette=\"mako_r\")\n",
    "plt.xlabel(\"Sex (0 = female, 1= male)\")\n",
    "plt.show()"
   ]
  },
  {
   "cell_type": "code",
   "execution_count": 52,
   "id": "chemical-writer",
   "metadata": {},
   "outputs": [
    {
     "data": {
      "image/png": "[encoded data removed]",
      "text/plain": [
       "<Figure size 432x288 with 1 Axes>"
      ]
     },
     "metadata": {
      "needs_background": "light"
     },
     "output_type": "display_data"
    }
   ],
   "source": [
    "#visualizing relation between \"Maximum Heart Rate\" and \"Age\"\n",
    "plt.scatter(x=df.age[df.target==1], y=df.thalach[(df.target==1)], c=\"red\")\n",
    "plt.scatter(x=df.age[df.target==0], y=df.thalach[(df.target==0)], c = 'green')\n",
    "plt.legend([\"Having Heart Disease\", \"Not Having Heart Disease\"])\n",
    "plt.xlabel(\"Age\")\n",
    "plt.ylabel(\"Maximum Heart Rate\")\n",
    "plt.show()"
   ]
  },
  {
   "cell_type": "code",
   "execution_count": 53,
   "id": "owned-office",
   "metadata": {},
   "outputs": [],
   "source": [
    "#splitting x and y into training and test set\n",
    "from sklearn.model_selection import train_test_split\n",
    "x_tr,x_te,y_tr,y_te = train_test_split(x,y,test_size=0.25,random_state=0)"
   ]
  },
  {
   "cell_type": "markdown",
   "id": "colonial-acoustic",
   "metadata": {},
   "source": [
    "# Creating and Training KNN Model"
   ]
  },
  {
   "cell_type": "code",
   "execution_count": 54,
   "id": "manual-tucson",
   "metadata": {},
   "outputs": [
    {
     "data": {
      "text/plain": [
       "KNeighborsClassifier(n_neighbors=7)"
      ]
     },
     "execution_count": 54,
     "metadata": {},
     "output_type": "execute_result"
    }
   ],
   "source": [
    "from sklearn.metrics import accuracy_score,confusion_matrix\n",
    "knn = KNeighborsClassifier(n_neighbors=7,metric='minkowski',p=2)\n",
    "knn.fit(x_tr,y_tr)"
   ]
  },
  {
   "cell_type": "code",
   "execution_count": 20,
   "id": "medical-signature",
   "metadata": {},
   "outputs": [
    {
     "name": "stdout",
     "output_type": "stream",
     "text": [
      "0.8289473684210527\n",
      "[[23 10]\n",
      " [ 3 40]]\n"
     ]
    }
   ],
   "source": [
    "#Predicting from the model\n",
    "from sklearn.metrics import accuracy_score,confusion_matrix\n",
    "y_pred = knn.predict(x_te)\n",
    "\n",
    "# To find accuracy using accuracy_score \n",
    "acc = accuracy_score(y_te,y_pred)\n",
    "print(acc)\n",
    "\n",
    "#Plotting confusion matrix to check accuracy\n",
    "cm = confusion_matrix(y_te, y_pred)\n",
    "print(cm)"
   ]
  },
  {
   "cell_type": "code",
   "execution_count": 21,
   "id": "linear-bikini",
   "metadata": {},
   "outputs": [
    {
     "name": "stdout",
     "output_type": "stream",
     "text": [
      "[[23 10]\n",
      " [ 3 40]]\n"
     ]
    }
   ],
   "source": [
    "#Plotting confusion matrix to check accuracy\n",
    "cm = confusion_matrix(y_te, y_pred)\n",
    "print(cm)"
   ]
  },
  {
   "cell_type": "code",
   "execution_count": 22,
   "id": "subjective-screening",
   "metadata": {},
   "outputs": [
    {
     "data": {
      "text/plain": [
       "(<Figure size 432x288 with 1 Axes>,\n",
       " <AxesSubplot:xlabel='predicted label', ylabel='true label'>)"
      ]
     },
     "execution_count": 22,
     "metadata": {},
     "output_type": "execute_result"
    },
    {
     "data": {
      "image/png": "[encoded data removed]",
      "text/plain": [
       "<Figure size 432x288 with 1 Axes>"
      ]
     },
     "metadata": {
      "needs_background": "light"
     },
     "output_type": "display_data"
    }
   ],
   "source": [
    "# plotting the confusion matrix and visualization test data output\n",
    "from mlxtend.plotting import plot_confusion_matrix,plot_decision_regions\n",
    "plot_confusion_matrix(cm)"
   ]
  },
  {
   "cell_type": "code",
   "execution_count": 23,
   "id": "stupid-variation",
   "metadata": {},
   "outputs": [
    {
     "data": {
      "image/png": "[encoded data removed]",
      "text/plain": [
       "<Figure size 432x288 with 1 Axes>"
      ]
     },
     "metadata": {
      "needs_background": "light"
     },
     "output_type": "display_data"
    }
   ],
   "source": [
    "plot_decision_regions(X=x_te,y=y_te,clf=knn)\n",
    "plt.show()"
   ]
  },
  {
   "cell_type": "code",
   "execution_count": 24,
   "id": "computational-croatia",
   "metadata": {},
   "outputs": [
    {
     "name": "stdout",
     "output_type": "stream",
     "text": [
      "              precision    recall  f1-score   support\n",
      "\n",
      "           0       0.88      0.70      0.78        33\n",
      "           1       0.80      0.93      0.86        43\n",
      "\n",
      "    accuracy                           0.83        76\n",
      "   macro avg       0.84      0.81      0.82        76\n",
      "weighted avg       0.84      0.83      0.83        76\n",
      "\n"
     ]
    }
   ],
   "source": [
    "#Evaluating the Algorithm\n",
    "from sklearn.metrics import classification_report\n",
    "print(classification_report(y_te, y_pred))"
   ]
  },
  {
   "cell_type": "markdown",
   "id": "democratic-wichita",
   "metadata": {},
   "source": [
    "#  cross_validation_accuracy with k =7"
   ]
  },
  {
   "cell_type": "code",
   "execution_count": 25,
   "id": "coordinate-violin",
   "metadata": {},
   "outputs": [
    {
     "name": "stdout",
     "output_type": "stream",
     "text": [
      "[0.80645161 0.67741935 0.87096774 0.83333333 0.8        0.9\n",
      " 0.86666667 0.8        0.7        0.83333333]\n",
      "0.8088172043010754\n"
     ]
    }
   ],
   "source": [
    "#k- fold cross_validation (cv=10) with k=7\n",
    "#Instantaneous Model\n",
    "classifier = KNeighborsClassifier(n_neighbors = 7)\n",
    "score = cross_val_score(classifier, x , y , cv=10 , scoring = 'accuracy')\n",
    "print(score)\n",
    "print(score.mean())"
   ]
  },
  {
   "cell_type": "markdown",
   "id": "sweet-colony",
   "metadata": {},
   "source": [
    "# To findout K value"
   ]
  },
  {
   "cell_type": "code",
   "execution_count": 26,
   "id": "trained-florence",
   "metadata": {},
   "outputs": [
    {
     "name": "stdout",
     "output_type": "stream",
     "text": [
      "[0.69, 0.674126984126984, 0.748888888888889, 0.7296825396825397, 0.7822222222222223, 0.7725396825396825, 0.7953968253968254, 0.8025396825396826, 0.8053968253968254, 0.7987301587301588, 0.8087301587301589, 0.8187301587301588, 0.8219047619047618, 0.8122222222222223, 0.8122222222222224, 0.8090476190476191, 0.8123809523809524, 0.8155555555555557, 0.8253968253968255, 0.818888888888889, 0.8253968253968255, 0.8120634920634922, 0.8220634920634922, 0.8155555555555556]\n",
      "0.8155555555555556\n"
     ]
    }
   ],
   "source": [
    "#Searching optimal value of k\n",
    "k_range = range(1,25)\n",
    "k_scores = []\n",
    "k_score = []\n",
    "#looping through all values of k\n",
    "for k in k_range:\n",
    "    knn = KNeighborsClassifier(n_neighbors = k)\n",
    "    scores = cross_val_score(knn, x, y, cv=15, scoring = 'accuracy')\n",
    "    k_scores.append(scores.mean())\n",
    "print(k_scores)\n",
    "print(scores.mean())"
   ]
  },
  {
   "cell_type": "code",
   "execution_count": 27,
   "id": "nutritional-shelter",
   "metadata": {},
   "outputs": [
    {
     "data": {
      "text/plain": [
       "Text(0, 0.5, 'Cross_Validated_Accuracy')"
      ]
     },
     "execution_count": 27,
     "metadata": {},
     "output_type": "execute_result"
    },
    {
     "data": {
      "image/png": "[encoded data removed]",
      "text/plain": [
       "<Figure size 432x288 with 1 Axes>"
      ]
     },
     "metadata": {
      "needs_background": "light"
     },
     "output_type": "display_data"
    }
   ],
   "source": [
    "#plotting the value of accuracy vs k\n",
    "plt.plot(k_range, k_scores)\n",
    "plt.xlabel('Values of k for KNN')\n",
    "plt.ylabel('Cross_Validated_Accuracy')"
   ]
  },
  {
   "cell_type": "markdown",
   "id": "weird-politics",
   "metadata": {},
   "source": [
    "# Optimum KNN Model"
   ]
  },
  {
   "cell_type": "code",
   "execution_count": 55,
   "id": "pressing-wings",
   "metadata": {},
   "outputs": [
    {
     "data": {
      "text/plain": [
       "array([0, 1, 1, 0, 0, 0, 0, 0, 0, 0, 1, 1, 0, 1, 1, 1, 0, 1, 0, 1, 1, 1,\n",
       "       0, 0, 1, 0, 0, 0, 1, 1, 1, 0, 1, 1, 1, 1, 0, 1, 0, 0, 1, 1, 1, 0,\n",
       "       1, 1, 1, 1, 0, 1, 1, 1, 1, 1, 1, 0, 1, 1, 1, 1, 1, 1, 1, 1, 1, 1,\n",
       "       1, 0, 1, 1, 1, 1, 1, 0, 0, 1], dtype=int64)"
      ]
     },
     "execution_count": 55,
     "metadata": {},
     "output_type": "execute_result"
    }
   ],
   "source": [
    "from sklearn.metrics import accuracy_score,confusion_matrix\n",
    "knn = KNeighborsClassifier(n_neighbors=19,metric='minkowski',p=2)\n",
    "knn.fit(x_tr,y_tr)\n",
    "y_pred = knn.predict(x_te)\n",
    "y_pred"
   ]
  },
  {
   "cell_type": "markdown",
   "id": "static-forth",
   "metadata": {},
   "source": [
    "# Accuracy using accuracy_score "
   ]
  },
  {
   "cell_type": "code",
   "execution_count": 56,
   "id": "romantic-exhibit",
   "metadata": {},
   "outputs": [
    {
     "name": "stdout",
     "output_type": "stream",
     "text": [
      "0.8552631578947368\n",
      "65\n"
     ]
    }
   ],
   "source": [
    "# To obtain  the accuracy \n",
    "# normalize by default is true i.e., to return fraction of correctly classified samples(float)\n",
    "acc = accuracy_score(y_te,y_pred, normalize = True)\n",
    "print(acc)\n",
    "\n",
    "# 'normalize = false' returns the no. of correctly classified samples(int)\n",
    "acc1 = accuracy_score(y_te,y_pred, normalize= False)\n",
    "print(acc1)"
   ]
  },
  {
   "cell_type": "code",
   "execution_count": 57,
   "id": "speaking-postage",
   "metadata": {},
   "outputs": [
    {
     "name": "stdout",
     "output_type": "stream",
     "text": [
      "0.8552631578947368\n",
      "65\n",
      "[[24  9]\n",
      " [ 2 41]]\n"
     ]
    }
   ],
   "source": [
    "#Predicting from the model\n",
    "from sklearn.metrics import accuracy_score,confusion_matrix\n",
    "y_pred = knn.predict(x_te)\n",
    "\n",
    "# To find accuracy using accuracy_score \n",
    "# normalize by default is true i.e., to return fraction of correctly classified samples(float)\n",
    "acc = accuracy_score(y_te,y_pred,normalize = True)\n",
    "print(acc)\n",
    "\n",
    "# 'normalize = false' returns the no. of correctly classified samples(int)\n",
    "acc1 = accuracy_score(y_te,y_pred, normalize= False)\n",
    "print(acc1)\n",
    "\n",
    "#Plotting confusion matrix to check accuracy\n",
    "cm = confusion_matrix(y_te, y_pred)\n",
    "print(cm)"
   ]
  },
  {
   "cell_type": "code",
   "execution_count": 58,
   "id": "suburban-wrist",
   "metadata": {},
   "outputs": [
    {
     "name": "stdout",
     "output_type": "stream",
     "text": [
      "[[24  9]\n",
      " [ 2 41]]\n"
     ]
    }
   ],
   "source": [
    "#Plotting confusion matrix\n",
    "cm = confusion_matrix(y_te, y_pred)\n",
    "print(cm)"
   ]
  },
  {
   "cell_type": "code",
   "execution_count": 59,
   "id": "imperial-lying",
   "metadata": {},
   "outputs": [
    {
     "data": {
      "text/plain": [
       "(<Figure size 432x288 with 1 Axes>,\n",
       " <AxesSubplot:xlabel='predicted label', ylabel='true label'>)"
      ]
     },
     "execution_count": 59,
     "metadata": {},
     "output_type": "execute_result"
    },
    {
     "data": {
      "image/png": "[encoded data removed]",
      "text/plain": [
       "<Figure size 432x288 with 1 Axes>"
      ]
     },
     "metadata": {
      "needs_background": "light"
     },
     "output_type": "display_data"
    }
   ],
   "source": [
    "# plotting the confusion matrix and visualization test data output\n",
    "from mlxtend.plotting import plot_confusion_matrix,plot_decision_regions\n",
    "plot_confusion_matrix(cm)"
   ]
  },
  {
   "cell_type": "code",
   "execution_count": 34,
   "id": "scenic-grant",
   "metadata": {},
   "outputs": [
    {
     "data": {
      "image/png": "[encoded data removed]",
      "text/plain": [
       "<Figure size 432x288 with 1 Axes>"
      ]
     },
     "metadata": {
      "needs_background": "light"
     },
     "output_type": "display_data"
    }
   ],
   "source": [
    "plot_decision_regions(X=x_te,y=y_te,clf=knn)\n",
    "plt.show()"
   ]
  },
  {
   "cell_type": "code",
   "execution_count": 35,
   "id": "played-salon",
   "metadata": {},
   "outputs": [
    {
     "name": "stdout",
     "output_type": "stream",
     "text": [
      "              precision    recall  f1-score   support\n",
      "\n",
      "           0       0.90      0.79      0.84        33\n",
      "           1       0.85      0.93      0.89        43\n",
      "\n",
      "    accuracy                           0.87        76\n",
      "   macro avg       0.87      0.86      0.86        76\n",
      "weighted avg       0.87      0.87      0.87        76\n",
      "\n"
     ]
    }
   ],
   "source": [
    "#Evaluating the Algorithm\n",
    "print(classification_report(y_te, y_pred))"
   ]
  },
  {
   "cell_type": "markdown",
   "id": "binding-trailer",
   "metadata": {},
   "source": [
    "# cross_validation_accuracy"
   ]
  },
  {
   "cell_type": "code",
   "execution_count": 36,
   "id": "standard-amino",
   "metadata": {},
   "outputs": [
    {
     "name": "stdout",
     "output_type": "stream",
     "text": [
      "[0.90322581 0.74193548 0.83870968 0.9        0.83333333 0.86666667\n",
      " 0.9        0.8        0.7        0.83333333]\n",
      "0.8317204301075269\n"
     ]
    }
   ],
   "source": [
    "#10- fold cross_validation (cv=15) with k=21\n",
    "#Instantaneous Model\n",
    "classifier = KNeighborsClassifier(n_neighbors = 21)\n",
    "score = cross_val_score(classifier, x , y , cv=10 , scoring = 'accuracy')\n",
    "print(score)\n",
    "print(score.mean())"
   ]
  },
  {
   "cell_type": "code",
   "execution_count": null,
   "id": "aerial-hunger",
   "metadata": {},
   "outputs": [],
   "source": []
  }
 ],
 "metadata": {
  "kernelspec": {
   "display_name": "Python 3",
   "language": "python",
   "name": "python3"
  },
  "language_info": {
   "codemirror_mode": {
    "name": "ipython",
    "version": 3
   },
   "file_extension": ".py",
   "mimetype": "text/x-python",
   "name": "python",
   "nbconvert_exporter": "python",
   "pygments_lexer": "ipython3",
   "version": "3.8.6"
  }
 },
 "nbformat": 4,
 "nbformat_minor": 5
}
